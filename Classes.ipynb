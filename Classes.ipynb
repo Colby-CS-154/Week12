{
 "cells": [
  {
   "cell_type": "markdown",
   "metadata": {},
   "source": [
    "# Getters, Setters, and Default Attributes"
   ]
  },
  {
   "cell_type": "code",
   "execution_count": 9,
   "metadata": {},
   "outputs": [],
   "source": [
    "class Pet:\n",
    "    \n",
    "    # Note that we have provided default values for some attributes. In  case we do not provide these \n",
    "    # values to the constructor, it will use these values as default to construct the object. \n",
    "    \n",
    "    def __init__(self, owner: str, name: str, colby_id: int = 12345, weight: float = 15, length: float = 10):\n",
    "        self._owner = owner\n",
    "        self._name = name\n",
    "        self._colby_id = colby_id\n",
    "        self._weight = weight\n",
    "        self._length = length\n",
    "\n",
    "    # Getters and Setters\n",
    "    # Often in OOP, we define methods to access the value of an attribute\n",
    "    # or modify the value of attributes\n",
    "\n",
    "    # Methods that are used to access the value of an attribute are known as getters\n",
    "    # Methods that are used to modify the value of an attribute are known as setters\n",
    "\n",
    "    # Setter\n",
    "    def set_owner(self, new_owner: str):\n",
    "        self._owner = new_owner\n",
    "    \n",
    "    # Getter\n",
    "    def get_owner(self):\n",
    "        return self._owner\n",
    "    \n",
    "    # You can also have special methods that help you use Python's default functions.\n",
    "    # For example, the __str__ method of an object is called when we call the print function \n",
    "    \n",
    "\n",
    "    # Special Methods\n",
    "    def __str__(self) -> str:\n",
    "        return f\"{self._name} is owned by {self._owner}\"\n",
    "\n",
    "    def __repr__(self):\n",
    "        return f\"Pet({self._name}, {self._owner}, {self._colby_id}, {self._weight})\"\n",
    "\n",
    "    def __len__(self):\n",
    "        return self._length    "
   ]
  },
  {
   "cell_type": "code",
   "execution_count": null,
   "metadata": {},
   "outputs": [],
   "source": [
    "# Note we did not provide any values for colby_id, weight, length. What do you think are their values?\n",
    "some_pet = Pet(\"Alice\", \"Fido\")"
   ]
  },
  {
   "cell_type": "code",
   "execution_count": null,
   "metadata": {},
   "outputs": [
    {
     "name": "stdout",
     "output_type": "stream",
     "text": [
      "Bob\n",
      "Bob\n"
     ]
    }
   ],
   "source": [
    "# Instead of directly accessing the attributes of the object `some_pet`, we are using getter\n",
    "print(some_pet.get_owner())\n",
    "\n",
    "# Instead of directly modifying the attribute of the object `some_pet` we are using setter\n",
    "some_pet.set_owner(\"Bob\")\n",
    "\n",
    "print(some_pet.get_owner())"
   ]
  },
  {
   "cell_type": "code",
   "execution_count": 11,
   "metadata": {},
   "outputs": [
    {
     "name": "stdout",
     "output_type": "stream",
     "text": [
      "Fido is owned by Alice\n"
     ]
    }
   ],
   "source": [
    "# See how the output of `print` method differs when we comment out __str__ method\n",
    "print(some_pet)"
   ]
  },
  {
   "cell_type": "code",
   "execution_count": null,
   "metadata": {},
   "outputs": [
    {
     "data": {
      "text/plain": [
       "Pet(Fido, Bob, 12345, 15)"
      ]
     },
     "execution_count": 7,
     "metadata": {},
     "output_type": "execute_result"
    }
   ],
   "source": [
    "# See how the output of this code diffes when we comment out __repr__ method\n",
    "some_pet"
   ]
  },
  {
   "cell_type": "code",
   "execution_count": null,
   "metadata": {},
   "outputs": [
    {
     "data": {
      "text/plain": [
       "10"
      ]
     },
     "execution_count": 8,
     "metadata": {},
     "output_type": "execute_result"
    }
   ],
   "source": [
    "# Because we implemented the __len__ method, we are able to use the `len` method\n",
    "len(some_pet)"
   ]
  }
 ],
 "metadata": {
  "kernelspec": {
   "display_name": "colby",
   "language": "python",
   "name": "python3"
  },
  "language_info": {
   "codemirror_mode": {
    "name": "ipython",
    "version": 3
   },
   "file_extension": ".py",
   "mimetype": "text/x-python",
   "name": "python",
   "nbconvert_exporter": "python",
   "pygments_lexer": "ipython3",
   "version": "3.11.9"
  }
 },
 "nbformat": 4,
 "nbformat_minor": 2
}
